{
 "cells": [
  {
   "cell_type": "code",
   "execution_count": 3,
   "metadata": {},
   "outputs": [],
   "source": [
    "from bs4 import BeautifulSoup\n",
    "from splinter import Browser\n",
    "import pandas as pd\n",
    "import requests\n",
    "import re\n",
    "import time"
   ]
  },
  {
   "cell_type": "code",
   "execution_count": 4,
   "metadata": {},
   "outputs": [],
   "source": [
    "#Choose the executable path to driver \n",
    "executable_path = {'executable_path': '/usr/local/bin/chromedriver'}\n",
    "browser = Browser('chrome', **executable_path, headless=False)"
   ]
  },
  {
   "cell_type": "code",
   "execution_count": 5,
   "metadata": {},
   "outputs": [],
   "source": [
    "# Visit Nasa news url through splinter module\n",
    "url = 'https://mars.nasa.gov/news/'\n",
    "browser.visit(url)"
   ]
  },
  {
   "cell_type": "code",
   "execution_count": 6,
   "metadata": {},
   "outputs": [
    {
     "name": "stdout",
     "output_type": "stream",
     "text": [
      "NASA's MRO Completes 60,000 Trips Around Mars\n",
      "The orbiting spacecraft is also about to set a record for data relayed from the Martian surface.\n"
     ]
    }
   ],
   "source": [
    "# HTML Object\n",
    "html = browser.html\n",
    "\n",
    "# Parse HTML with Beautiful Soup\n",
    "soup = BeautifulSoup(html, 'html.parser')\n",
    "\n",
    "\n",
    "# Retrieve the latest element that contains news title and news_paragraph\n",
    "news_title = soup.find('div', class_='content_title').find('a').text\n",
    "news_p = soup.find('div', class_='article_teaser_body').text\n",
    "\n",
    "# Display scrapped data \n",
    "print(news_title)\n",
    "print(news_p)"
   ]
  },
  {
   "cell_type": "markdown",
   "metadata": {},
   "source": [
    "# JPL Mars Space Images - Featured Imag"
   ]
  },
  {
   "cell_type": "code",
   "execution_count": 7,
   "metadata": {},
   "outputs": [],
   "source": [
    "#Visit Mars Space Images through splinter module\n",
    "jpl_url = 'https://www.jpl.nasa.gov/spaceimages/?search=&category=Mars'\n",
    "browser.visit(jpl_url)"
   ]
  },
  {
   "cell_type": "code",
   "execution_count": 8,
   "metadata": {},
   "outputs": [
    {
     "name": "stdout",
     "output_type": "stream",
     "text": [
      "https://www.jpl.nasa.gov/spaceimages/images/wallpaper/PIA19168-1920x1200.jpg\n"
     ]
    }
   ],
   "source": [
    "html_jpl = browser.html\n",
    "soup = BeautifulSoup(html_jpl, 'html.parser')\n",
    "\n",
    "# Retrieve background-image url from style tag \n",
    "featured_image_url  = soup.find('article')['style']\n",
    "#print(featured_image_url)\n",
    "image_url = re.findall(r\"(/spaceimages[^']*\\.(?:png|jpg|jpeg|gif|png|svg))\", featured_image_url)\n",
    "# print(image_url[0])\n",
    "# Website Url \n",
    "jplimg_url = 'https://www.jpl.nasa.gov'\n",
    "\n",
    "# Concatenate website url with scrapped route\n",
    "featured_image_url = f'{jplimg_url}{image_url[0]}'\n",
    "\n",
    "# Display full link to featured image\n",
    "print(featured_image_url)"
   ]
  },
  {
   "cell_type": "code",
   "execution_count": 9,
   "metadata": {},
   "outputs": [
    {
     "name": "stdout",
     "output_type": "stream",
     "text": [
      "https://www.jpl.nasa.gov/spaceimages/images/mediumsize/PIA19168_ip.jpg\n"
     ]
    }
   ],
   "source": [
    "\n",
    "jpl_url = 'https://www.jpl.nasa.gov/spaceimages/?search=&category=Mars'\n",
    "browser.visit(jpl_url)\n",
    "time.sleep(1)\n",
    "browser.click_link_by_partial_text('FULL IMAGE')\n",
    "time.sleep(1)\n",
    "expand = browser.find_by_css('#full_image')\n",
    "#expand.click()\n",
    "time.sleep(1)\n",
    "\n",
    "jpl_html = browser.html\n",
    "jpl_soup = BeautifulSoup(jpl_html, 'html.parser')\n",
    "\n",
    "img_relative = jpl_soup.find('img', class_='fancybox-image')['src']\n",
    "image_path = f'https://www.jpl.nasa.gov{img_relative}'\n",
    "print(image_path)"
   ]
  },
  {
   "cell_type": "markdown",
   "metadata": {},
   "source": [
    "### Mars Weather"
   ]
  },
  {
   "cell_type": "code",
   "execution_count": 129,
   "metadata": {},
   "outputs": [
    {
     "name": "stdout",
     "output_type": "stream",
     "text": [
      "\n",
      "InSight sol 167 (2019-05-17) low -100.5ºC (-148.9ºF) high -20.4ºC (-4.6ºF)\n",
      "winds from the SW at 4.7 m/s (10.6 mph) gusting to 13.5 m/s (30.3 mph)\n",
      "pressure at 7.50 hPa\n",
      "\n"
     ]
    }
   ],
   "source": [
    "mars_turl = 'https://twitter.com/marswxreport?lang=en'\n",
    "mars_twit_req = requests.get(mars_turl)\n",
    "\n",
    "#print(mars_twit_req.text)\n",
    "mars_soup = BeautifulSoup(mars_twit_req.text, 'html.parser')\n",
    "# print(mars_soup)\n",
    "mars_weather = re.sub(r'pic.*', \"\",(mars_soup.find_all(class_='js-tweet-text-container')[0].text))\n",
    "# mars_weather = (mars_soup.find(class_='js-tweet-text-container').text)\n",
    "print( mars_weather)"
   ]
  },
  {
   "cell_type": "markdown",
   "metadata": {},
   "source": [
    "### Mars Facts"
   ]
  },
  {
   "cell_type": "code",
   "execution_count": 130,
   "metadata": {},
   "outputs": [
    {
     "data": {
      "text/html": [
       "<div>\n",
       "<style scoped>\n",
       "    .dataframe tbody tr th:only-of-type {\n",
       "        vertical-align: middle;\n",
       "    }\n",
       "\n",
       "    .dataframe tbody tr th {\n",
       "        vertical-align: top;\n",
       "    }\n",
       "\n",
       "    .dataframe thead th {\n",
       "        text-align: right;\n",
       "    }\n",
       "</style>\n",
       "<table border=\"1\" class=\"dataframe\">\n",
       "  <thead>\n",
       "    <tr style=\"text-align: right;\">\n",
       "      <th></th>\n",
       "      <th>value</th>\n",
       "    </tr>\n",
       "    <tr>\n",
       "      <th>description</th>\n",
       "      <th></th>\n",
       "    </tr>\n",
       "  </thead>\n",
       "  <tbody>\n",
       "    <tr>\n",
       "      <th>Equatorial Diameter:</th>\n",
       "      <td>6,792 km</td>\n",
       "    </tr>\n",
       "    <tr>\n",
       "      <th>Polar Diameter:</th>\n",
       "      <td>6,752 km</td>\n",
       "    </tr>\n",
       "    <tr>\n",
       "      <th>Mass:</th>\n",
       "      <td>6.42 x 10^23 kg (10.7% Earth)</td>\n",
       "    </tr>\n",
       "    <tr>\n",
       "      <th>Moons:</th>\n",
       "      <td>2 (Phobos &amp; Deimos)</td>\n",
       "    </tr>\n",
       "    <tr>\n",
       "      <th>Orbit Distance:</th>\n",
       "      <td>227,943,824 km (1.52 AU)</td>\n",
       "    </tr>\n",
       "    <tr>\n",
       "      <th>Orbit Period:</th>\n",
       "      <td>687 days (1.9 years)</td>\n",
       "    </tr>\n",
       "    <tr>\n",
       "      <th>Surface Temperature:</th>\n",
       "      <td>-153 to 20 °C</td>\n",
       "    </tr>\n",
       "    <tr>\n",
       "      <th>First Record:</th>\n",
       "      <td>2nd millennium BC</td>\n",
       "    </tr>\n",
       "    <tr>\n",
       "      <th>Recorded By:</th>\n",
       "      <td>Egyptian astronomers</td>\n",
       "    </tr>\n",
       "  </tbody>\n",
       "</table>\n",
       "</div>"
      ],
      "text/plain": [
       "                                              value\n",
       "description                                        \n",
       "Equatorial Diameter:                       6,792 km\n",
       "Polar Diameter:                            6,752 km\n",
       "Mass:                 6.42 x 10^23 kg (10.7% Earth)\n",
       "Moons:                          2 (Phobos & Deimos)\n",
       "Orbit Distance:            227,943,824 km (1.52 AU)\n",
       "Orbit Period:                  687 days (1.9 years)\n",
       "Surface Temperature:                  -153 to 20 °C\n",
       "First Record:                     2nd millennium BC\n",
       "Recorded By:                   Egyptian astronomers"
      ]
     },
     "execution_count": 130,
     "metadata": {},
     "output_type": "execute_result"
    }
   ],
   "source": [
    "mars_facts = \"http://space-facts.com/mars/\"\n",
    "\n",
    "facts_table = pd.read_html(mars_facts)\n",
    "df_facts_table = facts_table[0]\n",
    "df_facts_table.columns=[\"description\",\"value\"]\n",
    "df_facts_table.set_index([\"description\"], inplace=True)\n",
    "df_facts_table"
   ]
  },
  {
   "cell_type": "code",
   "execution_count": 131,
   "metadata": {},
   "outputs": [
    {
     "data": {
      "text/plain": [
       "'<table border=\"1\" class=\"dataframe\">  <thead>    <tr style=\"text-align: right;\">      <th></th>      <th>value</th>    </tr>    <tr>      <th>description</th>      <th></th>    </tr>  </thead>  <tbody>    <tr>      <th>Equatorial Diameter:</th>      <td>6,792 km</td>    </tr>    <tr>      <th>Polar Diameter:</th>      <td>6,752 km</td>    </tr>    <tr>      <th>Mass:</th>      <td>6.42 x 10^23 kg (10.7% Earth)</td>    </tr>    <tr>      <th>Moons:</th>      <td>2 (Phobos &amp; Deimos)</td>    </tr>    <tr>      <th>Orbit Distance:</th>      <td>227,943,824 km (1.52 AU)</td>    </tr>    <tr>      <th>Orbit Period:</th>      <td>687 days (1.9 years)</td>    </tr>    <tr>      <th>Surface Temperature:</th>      <td>-153 to 20 °C</td>    </tr>    <tr>      <th>First Record:</th>      <td>2nd millennium BC</td>    </tr>    <tr>      <th>Recorded By:</th>      <td>Egyptian astronomers</td>    </tr>  </tbody></table>'"
      ]
     },
     "execution_count": 131,
     "metadata": {},
     "output_type": "execute_result"
    }
   ],
   "source": [
    "html_table = df_facts_table.to_html()\n",
    "#html_table\n",
    "html_table = html_table.replace(\"\\n\", \"\")\n",
    "html_table"
   ]
  },
  {
   "cell_type": "markdown",
   "metadata": {},
   "source": [
    "### Mars Hemispheres"
   ]
  },
  {
   "cell_type": "code",
   "execution_count": 141,
   "metadata": {},
   "outputs": [
    {
     "name": "stdout",
     "output_type": "stream",
     "text": [
      "Cerberus Hemisphere \n",
      "http://astropedia.astrogeology.usgs.gov/download/Mars/Viking/cerberus_enhanced.tif/full.jpg\n"
     ]
    }
   ],
   "source": [
    "mars_hemp_url = 'https://astrogeology.usgs.gov/search/results?q=hemisphere+enhanced&k1=target&v1=Mars'\n",
    "hemisphere_img_urls = []\n",
    "# mars_hemp_req = requests.get(mars_hemp_url)\n",
    "browser.visit(mars_hemp_url)\n",
    "cerberus_link = browser.find_by_css(\"#product-section > div.collapsible.results > div:nth-child(1) > div > a>h3\").click()\n",
    "time.sleep(2)\n",
    "cerb_html = browser.html\n",
    "cerb_soup = BeautifulSoup(cerb_html, 'html.parser')\n",
    "#print(cerb_soup)\n",
    "cerberus_title = (cerb_soup.find(\"h2\",class_=\"title\").text).strip(\"Enhanced\")\n",
    "print(cerberus_title)\n",
    "#soup.find('a', {'class': 'class'})['href'] \n",
    "cerb_relative = cerb_soup.find(class_='wide-image-wrapper').find(href=True)\n",
    "cerberus_hemp_full_img = cerb_relative.get('href')\n",
    "print(cerberus_hemp_full_img)\n",
    "cerberus = {\"image title\":cerberus_title, \"image url\": cerberus_hemp_full_img}\n",
    "hemisphere_img_urls.append(cerberus)\n",
    "browser.back()\n",
    "#print(hemisphere_img_urls)\n"
   ]
  },
  {
   "cell_type": "code",
   "execution_count": 142,
   "metadata": {},
   "outputs": [],
   "source": [
    "#Schiaparelli Hemisphere\n",
    "Schiaparelli_link = browser.find_by_css(\"#product-section > div.collapsible.results > div:nth-child(2) > div > a>h3\").click()\n",
    "time.sleep(2)\n",
    "Schiaparelli_html = browser.html\n",
    "Schiaparelli_soup = BeautifulSoup(Schiaparelli_html, 'html.parser')\n",
    "#print(cerb_soup)\n",
    "Schiaparelli_title = (Schiaparelli_soup.find(\"h2\",class_=\"title\").text).strip(\"Enhanced\")\n",
    "#print(Schiaparelli_title)\n",
    "#soup.find('a', {'class': 'class'})['href'] \n",
    "Schiaparelli_relative = Schiaparelli_soup.find(class_='wide-image-wrapper').find(href=True)\n",
    "Schiaparelli_full_img = Schiaparelli_relative.get('href')\n",
    "#print(Schiaparelli_full_img)\n",
    "Schiaparelli = {\"image title\":Schiaparelli_title, \"image url\": Schiaparelli_full_img}\n",
    "hemisphere_img_urls.append(Schiaparelli)\n",
    "browser.back()\n",
    "#print(hemisphere_img_urls)"
   ]
  },
  {
   "cell_type": "code",
   "execution_count": 143,
   "metadata": {},
   "outputs": [
    {
     "name": "stdout",
     "output_type": "stream",
     "text": [
      "[{'image title': 'Cerberus Hemisphere ', 'image url': 'http://astropedia.astrogeology.usgs.gov/download/Mars/Viking/cerberus_enhanced.tif/full.jpg'}, {'image title': 'Schiaparelli Hemisphere ', 'image url': 'http://astropedia.astrogeology.usgs.gov/download/Mars/Viking/schiaparelli_enhanced.tif/full.jpg'}, {'image title': 'Syrtis Major Hemisphere', 'image url': 'http://astropedia.astrogeology.usgs.gov/download/Mars/Viking/syrtis_major_enhanced.tif/full.jpg'}]\n"
     ]
    }
   ],
   "source": [
    "#Syrtis Major Hemisphere\n",
    "Syrtis_link = browser.find_by_css(\"#product-section > div.collapsible.results > div:nth-child(3) > div > a>h3\").click()\n",
    "time.sleep(2)\n",
    "Syrtis_html = browser.html\n",
    "Syrtis_soup = BeautifulSoup(Syrtis_html, 'html.parser')\n",
    "#print(cerb_soup)\n",
    "Syrtis_title = (Syrtis_soup.find(\"h2\",class_=\"title\").text).strip(\"Enhanced\")\n",
    "#print(Schiaparelli_title)\n",
    "#soup.find('a', {'class': 'class'})['href'] \n",
    "Syrtis_relative = Syrtis_soup.find(class_='wide-image-wrapper').find(href=True)\n",
    "Syrtis_full_img = Syrtis_relative.get('href')\n",
    "#print(Schiaparelli_full_img)\n",
    "Syrtis = {\"image title\":Syrtis_title, \"image url\": Syrtis_full_img}\n",
    "hemisphere_img_urls.append(Syrtis)\n",
    "browser.back()\n",
    "print(hemisphere_img_urls)"
   ]
  },
  {
   "cell_type": "code",
   "execution_count": 136,
   "metadata": {},
   "outputs": [
    {
     "name": "stdout",
     "output_type": "stream",
     "text": [
      "[{'image title': 'Cerberus Hemisphere ', 'image url': 'http://astropedia.astrogeology.usgs.gov/download/Mars/Viking/cerberus_enhanced.tif/full.jpg'}, {'image title': 'Schiaparelli Hemisphere ', 'image url': 'http://astropedia.astrogeology.usgs.gov/download/Mars/Viking/schiaparelli_enhanced.tif/full.jpg'}, {'image title': 'Syrtis Major Hemisphere ', 'image url': 'http://astropedia.astrogeology.usgs.gov/download/Mars/Viking/syrtis_major_enhanced.tif/full.jpg'}, {'image title': 'Valles Marineris Hemisphere ', 'image url': 'http://astropedia.astrogeology.usgs.gov/download/Mars/Viking/valles_marineris_enhanced.tif/full.jpg'}, {'image title': 'Valles Marineris Hemisphere ', 'image url': 'http://astropedia.astrogeology.usgs.gov/download/Mars/Viking/valles_marineris_enhanced.tif/full.jpg'}]\n"
     ]
    }
   ],
   "source": [
    "#Valles Marineris Hemisphere\n",
    "Valles_link = browser.find_by_css(\"#product-section > div.collapsible.results > div:nth-child(4) > div > a >h3\").click()\n",
    "time.sleep(2)\n",
    "#product-section > div.collapsible.results > div:nth-child(4) > div > a > h3\n",
    "Valles_html = browser.html\n",
    "Valles_soup = BeautifulSoup(Valles_html, 'html.parser')\n",
    "#print(cerb_soup)\n",
    "Valles_title = (Valles_soup.find(\"h2\",class_=\"title\").text).strip(\"Enhanced\")\n",
    "#print(Schiaparelli_title)\n",
    "#soup.find('a', {'class': 'class'})['href'] \n",
    "Valles_relative = Valles_soup.find(class_='wide-image-wrapper').find(href=True)\n",
    "Valles_full_img = Valles_relative.get('href')\n",
    "#print(Schiaparelli_full_img)\n",
    "Valles = {\"image title\":Valles_title, \"image url\": Valles_full_img}\n",
    "hemisphere_img_urls.append(Valles)\n",
    "print(hemisphere_img_urls)\n",
    "browser.back()    "
   ]
  },
  {
   "cell_type": "code",
   "execution_count": null,
   "metadata": {},
   "outputs": [],
   "source": [
    "#close the browser\n",
    "browser.quit()"
   ]
  }
 ],
 "metadata": {
  "kernelspec": {
   "display_name": "Python 3",
   "language": "python",
   "name": "python3"
  },
  "language_info": {
   "codemirror_mode": {
    "name": "ipython",
    "version": 3
   },
   "file_extension": ".py",
   "mimetype": "text/x-python",
   "name": "python",
   "nbconvert_exporter": "python",
   "pygments_lexer": "ipython3",
   "version": "3.7.1"
  }
 },
 "nbformat": 4,
 "nbformat_minor": 2
}
